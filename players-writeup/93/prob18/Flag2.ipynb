{
 "cells": [
  {
   "cell_type": "code",
   "execution_count": 1,
   "metadata": {},
   "outputs": [],
   "source": [
    "from src.prob import *\n",
    "from Crypto.Cipher import AES\n",
    "from random import choice\n",
    "from base64 import b16encode, b32encode, b64encode, b85encode, a85encode, b16decode,b32decode, b64decode, b85decode ,a85decode\n",
    "import random\n",
    "import time"
   ]
  },
  {
   "cell_type": "code",
   "execution_count": 2,
   "metadata": {},
   "outputs": [],
   "source": [
    "def Part_Decrypt(ciphertext):\n",
    "    # 1. Remove Header and Decode\n",
    "    if ciphertext.startswith('佛曰：'):\n",
    "        ciphertext = ciphertext[3:]\n",
    "        data = b''\n",
    "        i = 0\n",
    "        while i < len(ciphertext):\n",
    "            if ciphertext[i] in BYTEMARK:\n",
    "                i = i + 1\n",
    "                if i<len(ciphertext):\n",
    "                    data = data + bytes([TUDOU.index(ciphertext[i]) + 128])\n",
    "            else:\n",
    "                data = data + bytes([TUDOU.index(ciphertext[i])])\n",
    "            i = i + 1\n",
    "        # 2. Use AES-256-CBC to Decrypt\n",
    "        # 去掉最后几位，长度为16的倍数\n",
    "        n=len(data)\n",
    "        n=n-n%16\n",
    "\n",
    "        cryptor = AES.new(KEY, AES.MODE_CBC, IV)\n",
    "        result = cryptor.decrypt(data[:n])\n",
    "        # 3. Remove Paddings (PKCS7)\n",
    "        # 3. Remove Paddings (PKCS7)\n",
    "        flag = result[-1]\n",
    "        if flag < 16 and result[-flag] == flag:\n",
    "            result = result[:-flag]\n",
    "        # 4. Decode Plaintext with UTF-16 Little Endian\n",
    "        try:\n",
    "            res=result.decode('utf-16le')\n",
    "            return res\n",
    "        except:\n",
    "            return ''\n",
    "    else:\n",
    "        return ''"
   ]
  },
  {
   "cell_type": "code",
   "execution_count": 12,
   "metadata": {},
   "outputs": [],
   "source": [
    "with open(\"flag2.enc\",\"r\",encoding=\"utf-8\") as f:\n",
    "    x=f.read()\n",
    "\n",
    "code_x=x.encode(\"shift_jis\")"
   ]
  },
  {
   "cell_type": "code",
   "execution_count": 14,
   "metadata": {},
   "outputs": [],
   "source": [
    "# base64加密字符集\n",
    "all_sym=set(\"AaBbCcDdEeFfGgHhIiJjKkLlMmNnOoPpQqRrSsTtUuVvWwXxYyZz0123456789+/=\")"
   ]
  },
  {
   "cell_type": "code",
   "execution_count": 18,
   "metadata": {},
   "outputs": [
    {
     "name": "stdout",
     "output_type": "stream",
     "text": [
      "1000 2 1.597660779953003\n",
      "2000 1 5.420088052749634\n",
      "3000 1 11.35568118095398\n",
      "4000 2 20.81095600128174\n",
      "5000 5 34.5321261882782\n",
      "6000 1 53.413615226745605\n",
      "7000 3 77.57814383506775\n",
      "8000 2 105.86146688461304\n",
      "9000 2 139.8254852294922\n",
      "10000 2 174.77207922935486\n",
      "11000 4 217.4877414703369\n",
      "12000 1 262.83860301971436\n",
      "13000 1 320.3583333492279\n",
      "14000 1 375.16418051719666\n",
      "15000 1 431.4324429035187\n",
      "16000 1 494.16649985313416\n",
      "17000 1 576.1987745761871\n",
      "18000 2 648.42089676857\n",
      "19000 1 744.6269116401672\n",
      "20000 10 843.465567111969\n",
      "21000 1 943.5210063457489\n",
      "22000 1 1032.6918296813965\n",
      "23000 3 1143.0291676521301\n",
      "24000 1 1246.656310558319\n",
      "25000 5 1387.3971486091614\n",
      "26000 5 1505.3047382831573\n",
      "27000 1 1619.7281830310822\n",
      "nice\n",
      "nice\n"
     ]
    }
   ],
   "source": [
    "# 计算密文\n",
    "reses=[]\n",
    "previous=[\"佛曰：\"]\n",
    "\n",
    "ans=[]\n",
    "\n",
    "t=time.time()\n",
    "for k in range(1,1000000):\n",
    "# k=0\n",
    "# while 1:\n",
    "#     k=k+1\n",
    "    if k%1000==0:\n",
    "        print(k,len(previous),time.time()-t)\n",
    "\n",
    "    if len(previous)>1000:\n",
    "        print(k,len(previous))\n",
    "        break\n",
    "\n",
    "    if previous==[]:\n",
    "        break\n",
    "\n",
    "    # 每50步，尝试减少当前串的个数\n",
    "    if len(previous)>1 and k%50==0:\n",
    "        new_pre=[]\n",
    "        for i in range(len(previous)):\n",
    "            flag=1\n",
    "            p1=previous[i]\n",
    "            dep1=Part_Decrypt(p1)\n",
    "            if dep1=='':\n",
    "                continue\n",
    "\n",
    "            for j in range(i+1,len(previous)):\n",
    "                p2=previous[j]\n",
    "                if dep1==Part_Decrypt(p2) and p1[-33:]==p2[-33:]:\n",
    "                    flag=0\n",
    "                \n",
    "            #出现不在base64加密密文中的字符\n",
    "            if len(set(dep1)-all_sym)!=0:\n",
    "                flag=0\n",
    "            if flag==1:\n",
    "                new_pre.append(p1)\n",
    "\n",
    "        previous=new_pre\n",
    "                    \n",
    "    reses.append(previous)\n",
    "    new=[]\n",
    "    for pair in previous:\n",
    "        pre=pair\n",
    "        for i in (TUDOU+BYTEMARK):\n",
    "            #BYTEMARK后面不可能接着BYTEMARK\n",
    "            if i in BYTEMARK and pre[-1] in BYTEMARK:\n",
    "                continue\n",
    "\n",
    "            code=(pre+i).encode(\"utf-8\").decode(\"shift_jis\",errors=\"ignore\")\n",
    "            #print(code)\n",
    "            if code==x[:len(code)]:\n",
    "                new.append((pre+i))\n",
    "                if code==x:\n",
    "                    #print((pre+i))\n",
    "                    try:\n",
    "                        coa=Decrypt((pre+i))\n",
    "                        ans.append(coa)\n",
    "                        print(\"nice\")\n",
    "                    except:\n",
    "                        print(\"error\")\n",
    "\n",
    "    previous = new"
   ]
  },
  {
   "cell_type": "code",
   "execution_count": 60,
   "metadata": {},
   "outputs": [
    {
     "data": {
      "text/plain": [
       "'!#$%&()*+-0123456789;<=>?@ABCDEFGHIJKLMNOPQRSTUVWXYZ^_`abcdefghijklmnopqrstuvwxyz{|}~'"
      ]
     },
     "execution_count": 60,
     "metadata": {},
     "output_type": "execute_result"
    }
   ],
   "source": [
    "#b85\n",
    "temp=ans[0]\n",
    "l=b85encode(temp.encode())\n",
    "l=list(set(l.decode()))\n",
    "l.sort()\n",
    "''.join(l)"
   ]
  },
  {
   "cell_type": "code",
   "execution_count": 61,
   "metadata": {},
   "outputs": [
    {
     "data": {
      "text/plain": [
       "'!\"#$%&\\'()*+,-./0123456789:;<=>?@ABCDEFGHIJKLMNOPQRSTUVWXYZ[\\\\]^_`abcdefghijklmnopqrstu'"
      ]
     },
     "execution_count": 61,
     "metadata": {},
     "output_type": "execute_result"
    }
   ],
   "source": [
    "#a85\n",
    "temp=ans[0]\n",
    "l=a85encode(temp.encode())\n",
    "l=list(set(l.decode()))\n",
    "l.sort()\n",
    "''.join(l)"
   ]
  },
  {
   "cell_type": "code",
   "execution_count": 85,
   "metadata": {},
   "outputs": [
    {
     "data": {
      "text/plain": [
       "'将需要打码的文字输入在上面的文本框里，点击『听佛说宇宙的真谛』按钮，就能在下面得到打码后的文字。\\r\\nflag{AES_1s_b10ck_cipher}\\r\\n将需要解码的文字输入在下面的文本框里，记得带上『佛曰：』或『如是我闻：』的文字，点击『参悟佛所言的真意』按钮，就能在上面的文本框里得到解码后的文字。'"
      ]
     },
     "execution_count": 85,
     "metadata": {},
     "output_type": "execute_result"
    }
   ],
   "source": [
    "pcode=ans[0]\n",
    "pcode=pcode.encode()\n",
    "#1\n",
    "pcode=b32decode(pcode)\n",
    "#2\n",
    "pcode=a85decode(pcode)\n",
    "#3\n",
    "pcode=b85decode(pcode)\n",
    "#4\n",
    "pcode=b16decode(pcode)\n",
    "#5\n",
    "pcode=a85decode(pcode)\n",
    "#6\n",
    "pcode=b64decode(pcode)\n",
    "#7\n",
    "pcode=a85decode(pcode)\n",
    "#8\n",
    "pcode=b64decode(pcode)\n",
    "#9\n",
    "pcode=a85decode(pcode)\n",
    "#10\n",
    "pcode=b64decode(pcode)\n",
    "\n",
    "pcode.decode()"
   ]
  },
  {
   "cell_type": "code",
   "execution_count": 83,
   "metadata": {},
   "outputs": [
    {
     "data": {
      "text/plain": [
       "'\\n\\r01AES_abcefghiklprs{}。『』上下佛入击到参后听在如字宇宙将就带得悟意我或所打按文是曰本框点的真码能要解言记说谛输里钮闻需面，：'"
      ]
     },
     "execution_count": 83,
     "metadata": {},
     "output_type": "execute_result"
    }
   ],
   "source": [
    "l=list(set(pcode.decode()))\n",
    "l.sort()\n",
    "''.join(l)"
   ]
  }
 ],
 "metadata": {
  "kernelspec": {
   "display_name": "Python 3.8.10 64-bit",
   "language": "python",
   "name": "python3"
  },
  "language_info": {
   "codemirror_mode": {
    "name": "ipython",
    "version": 3
   },
   "file_extension": ".py",
   "mimetype": "text/x-python",
   "name": "python",
   "nbconvert_exporter": "python",
   "pygments_lexer": "ipython3",
   "version": "3.8.10"
  },
  "orig_nbformat": 4,
  "vscode": {
   "interpreter": {
    "hash": "916dbcbb3f70747c44a77c7bcd40155683ae19c65e1c03b4aa3499c5328201f1"
   }
  }
 },
 "nbformat": 4,
 "nbformat_minor": 2
}
