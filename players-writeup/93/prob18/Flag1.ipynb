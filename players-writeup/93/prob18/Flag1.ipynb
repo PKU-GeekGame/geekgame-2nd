{
 "cells": [
  {
   "cell_type": "code",
   "execution_count": 7,
   "metadata": {},
   "outputs": [],
   "source": [
    "from src.prob import *\n",
    "from Crypto.Cipher import AES\n",
    "from random import choice\n",
    "from base64 import b16encode, b32encode, b64encode, b85encode, a85encode"
   ]
  },
  {
   "cell_type": "code",
   "execution_count": 4,
   "metadata": {},
   "outputs": [
    {
     "name": "stdout",
     "output_type": "stream",
     "text": [
      "flag{1sads2_1_dd}\n",
      "佛曰：謹瑟皤諦帝俱迦奢寫穆罰爍涅哆遠缽提曰怯輸缽不哆有缽者知藝諳夢哆藝知冥婆除缽逝罰槃除怯曰尼謹想漫梵羯利奢薩梵道罰死諦是迦呐密他皤沙皤麼冥老朋有娑耶\n",
      "flag{1sads2_1_dd}\n",
      "菴帶峅ｼ夊ｬｹ迹溷草隲ｦ蟶晉ｼｽ霑ｦ螂｢蟇ｫ遨逧､辷肴ｶ蜩驕蜀･謠先峅郛ｽ霈ｸ蜀･荳咲圖譛牙宕閠遏･阯晁ｫｳ螟｢萓阯晉衍諤ｯ蟀髯､螂｢騾晉ｽｰ讒髯､蜻先峅蟆ｼ隰ｹ諠ｳ貍ｫ蜀･鄒ｯ蛻ｩ隲ｳ阮ｩ蜀･驕鍋ｼｽ豁ｻ隲ｦ譏ｯ霑ｦ蜀･蟇莉門･｢豐呎｢ｵ鮗ｼ蜀･閠∵恚譛牙ｨ題ｶ\n"
     ]
    }
   ],
   "source": [
    "x='flag{1sads2_1_dd}'\n",
    "enx=Encrypt(x)\n",
    "dex=Decrypt(enx)\n",
    "print(x)\n",
    "print(enx)\n",
    "print(dex)\n",
    "print(Encrypt(x).encode(\"utf-8\").decode(\"shift_jis\",errors=\"ignore\"))"
   ]
  },
  {
   "cell_type": "code",
   "execution_count": 1,
   "metadata": {},
   "outputs": [
    {
     "name": "stdout",
     "output_type": "stream",
     "text": [
      "菴帶峅ｼ夐ｺｼ譏ｯ譴ｵ谿ｿ逧､逶｡逧､貊螽題協蜀･驍｣逶ｧ鄒ｯ莨顔ｽｰ譎ｺ逶｡螟懈｢ｵ蜍昜ｿｱ蟇ｦ蛻ｩ逶ｧ逧､蜻ｼ蜻舌ょｸ晏､｢譴ｵ貊鄒蟇ｦ蜻千ｭ我ｾ晉圖陂萓蛟剃ｼ贋ｻ･莠ｦ蜩謨ｸ諤ｯ蟋ｪ蟆ｼ諤ｯ辟｡蜻先主堤･樊ｯ螟ｷ驕萓鞫ｩ譎ｺ蜻蝉ｼｽ諱先ｯ莠ｦ蜀･蠖檎ｼｽ荳\n"
     ]
    }
   ],
   "source": [
    "with open(\"src/flag1.enc\",\"r\",encoding=\"utf-8\") as f:\n",
    "        x=f.read()\n",
    "print(x)"
   ]
  },
  {
   "cell_type": "code",
   "execution_count": 10,
   "metadata": {},
   "outputs": [
    {
     "name": "stdout",
     "output_type": "stream",
     "text": [
      "佛曰：麼是梵殿皤盡皤滅娑苦冥那盧羯伊罰智盡夜梵勝俱實利盧皤呼呐。帝夢梵滅羅實呐等依皤蘇侄倒伊以亦哆數怯姪尼怯無呐明倒神怯夷遠侄摩智呐伽恐怯亦冥彌缽不\n",
      "flag{s1mp1e_Tud0uc0d3}\n",
      "佛曰：麼是梵殿皤盡皤滅娑苦冥那盧羯伊罰智盡夜梵勝俱實利盧皤呼呐。帝夢梵滅羅實呐等依皤蘇侄倒伊以亦哆數怯姪尼怯無呐明倒神怯夷遠侄摩智呐伽恐怯亦冥彌缽一\n",
      "flag{s1mp1e_Tud0銲ꅙ揲锔睟챽ᄻ\n",
      "佛曰：麼是梵殿皤盡皤滅娑苦冥那盧羯伊罰智盡夜梵勝俱實利盧皤呼呐。帝夢梵滅羅實呐等依皤蘇侄倒伊以亦哆數怯姪尼怯無呐明倒神怯夷遠侄摩智呐伽恐怯亦冥彌缽上\n",
      "error\n",
      "佛曰：麼是梵殿皤盡皤滅娑苦冥那盧羯伊罰智盡夜梵勝俱實利盧皤呼呐。帝夢梵滅羅實呐等依皤蘇侄倒伊以亦哆數怯姪尼怯無呐明倒神怯夷遠侄摩智呐伽恐怯亦冥彌缽三\n",
      "flag{s1mp1e_Tud0룄爉鸆몠㊆硎ữ\n",
      "佛曰：麼是梵殿皤盡皤滅娑苦冥那盧羯伊罰智盡夜梵勝俱實利盧皤呼呐。帝夢梵滅羅實呐等依皤蘇侄倒伊以亦哆數怯姪尼怯無呐明倒神怯夷遠侄摩智呐伽恐怯亦冥彌缽世\n",
      "flag{s1mp1e_Tud0⧶䳐鑅绎箄䰍໎\n"
     ]
    }
   ],
   "source": [
    "reses=[]\n",
    "previous=[\"佛曰：\"]\n",
    "for k in range(1000):\n",
    "    if previous==[]:\n",
    "        break\n",
    "\n",
    "    reses.append(previous)\n",
    "    new=[]\n",
    "    for pre in previous:\n",
    "        for i in (TUDOU+BYTEMARK):\n",
    "            code=(pre+i).encode(\"utf-8\").decode(\"shift_jis\",errors=\"ignore\")\n",
    "            #print(code)\n",
    "            if code==x[:len(code)]:\n",
    "                new.append((pre+i))\n",
    "                if code==x:\n",
    "                    print((pre+i))\n",
    "                    try:\n",
    "                        print(Decrypt((pre+i)))\n",
    "                    except:\n",
    "                        print(\"error\")\n",
    "\n",
    "    previous = new"
   ]
  }
 ],
 "metadata": {
  "kernelspec": {
   "display_name": "Python 3.8.10 64-bit",
   "language": "python",
   "name": "python3"
  },
  "language_info": {
   "codemirror_mode": {
    "name": "ipython",
    "version": 3
   },
   "file_extension": ".py",
   "mimetype": "text/x-python",
   "name": "python",
   "nbconvert_exporter": "python",
   "pygments_lexer": "ipython3",
   "version": "3.8.10"
  },
  "orig_nbformat": 4,
  "vscode": {
   "interpreter": {
    "hash": "916dbcbb3f70747c44a77c7bcd40155683ae19c65e1c03b4aa3499c5328201f1"
   }
  }
 },
 "nbformat": 4,
 "nbformat_minor": 2
}
