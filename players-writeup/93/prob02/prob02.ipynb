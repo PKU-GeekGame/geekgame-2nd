{
 "cells": [
  {
   "cell_type": "code",
   "execution_count": 24,
   "metadata": {},
   "outputs": [],
   "source": [
    "import pyttsx3\n",
    "import os\n",
    "import subprocess\n",
    "import numpy as np\n",
    "from pydub import AudioSegment\n",
    "# 初始化， 必须要有奥\n",
    "engine = pyttsx3.init()"
   ]
  },
  {
   "cell_type": "code",
   "execution_count": 25,
   "metadata": {},
   "outputs": [
    {
     "name": "stdout",
     "output_type": "stream",
     "text": [
      "id = HKEY_LOCAL_MACHINE\\SOFTWARE\\Microsoft\\Speech\\Voices\\Tokens\\TTS_MS_ZH-CN_HUIHUI_11.0 \n",
      "name = Microsoft Huihui Desktop - Chinese (Simplified) \n",
      "\n",
      "id = HKEY_LOCAL_MACHINE\\SOFTWARE\\Microsoft\\Speech\\Voices\\Tokens\\TTS_MS_EN-US_ZIRA_11.0 \n",
      "name = Microsoft Zira Desktop - English (United States) \n",
      "\n"
     ]
    }
   ],
   "source": [
    "import pyttsx3\n",
    "\n",
    "tts = pyttsx3.init()\n",
    "voices = tts.getProperty('voices')\n",
    "for voice in voices:\n",
    "    print('id = {} \\nname = {} \\n'.format(voice.id, voice.name))"
   ]
  },
  {
   "cell_type": "code",
   "execution_count": 26,
   "metadata": {},
   "outputs": [
    {
     "name": "stdout",
     "output_type": "stream",
     "text": [
      "250\n",
      "1.0\n",
      "[<pyttsx3.voice.Voice object at 0x0000017B8DACE110>, <pyttsx3.voice.Voice object at 0x0000017B8DAE89A0>]\n"
     ]
    }
   ],
   "source": [
    "rate = engine.getProperty('rate')   # getting details of current speaking rate\n",
    "print (rate)      \n",
    "volume = engine.getProperty('volume')\n",
    "print(volume)\n",
    "voices = engine.getProperty('voices') \n",
    "print(voices)\n",
    "engine.setProperty('voices',voices[1].id)"
   ]
  },
  {
   "cell_type": "code",
   "execution_count": 27,
   "metadata": {},
   "outputs": [],
   "source": [
    "text=[\"科技并带着趣味\",\n",
    "\"#\",\"不觉得这很酷吗\",\n",
    "\"#\",\"作为一名理工男\",\n",
    "\"#\",\"我觉得这太酷了\",\n",
    "\"#\",\"很符合我对未来生活的想象\"]\n",
    "text_dir={}\n",
    "for i in text:\n",
    "    text_dir[i]=200\n",
    "\n",
    "text_dir[\"很符合我对未来生活的想象\"]=250\n",
    "text_dir[\"科技并带着趣味\"]=210\n",
    "text_dir[\"这太酷了\"]=50\n",
    "text_dir[\"我觉得\"]=300\n",
    "text_dir[\"作为一名理工男\"]=250\n",
    "text_dir[\"不觉得\"]=220"
   ]
  },
  {
   "cell_type": "code",
   "execution_count": 28,
   "metadata": {},
   "outputs": [],
   "source": [
    "# text=[\"科技并带着趣味\",\n",
    "# \"不觉得这很酷吗\",\n",
    "# \"作为一名理工男\",\n",
    "# \"我觉得这太酷了\",\n",
    "# \"很符合我对未来生活的想象\"]\n",
    "\n",
    "FORMAT = ['wav','pcm','ogg','mp3','m4a','aac']\n",
    "ext='.aac'\n",
    "dir=\"vio\"\n",
    "if not os.path.exists(dir):\n",
    "    os.mkdir(dir)"
   ]
  },
  {
   "cell_type": "code",
   "execution_count": 29,
   "metadata": {},
   "outputs": [],
   "source": [
    "#空白\n",
    "blank_time=[-1325,-4360+3315,-6120+5230,-12120+8820+10000-7520]\n",
    "i=0\n",
    "for t in blank_time:\n",
    "    slience=AudioSegment.silent(10*1000+t)\n",
    "    slience.export(os.path.join(dir,\"blank\"+str(i)+\".mp3\"))\n",
    "    i=i+1"
   ]
  },
  {
   "cell_type": "code",
   "execution_count": 30,
   "metadata": {},
   "outputs": [
    {
     "name": "stdout",
     "output_type": "stream",
     "text": [
      "科技并带着趣味\n",
      "不觉得这很酷吗\n",
      "我觉得这太酷了\n"
     ]
    }
   ],
   "source": [
    "#获得音频\n",
    "sen_list=[\"不觉得这很酷吗\",\"科技并带着趣味\",\"我觉得这太酷了\"]\n",
    "for sen in sen_list:\n",
    "    if os.path.exists(os.path.join(dir,sen+'.mp3')):\n",
    "        os.remove(os.path.join(dir,sen+'.mp3'))\n",
    "    os.system('ffmpeg -n -i '+sen+'.mp3 -filter:a \"atempo=1.4\" '+os.path.join(dir,sen+'.mp3'))\n",
    "\n",
    "engine.setProperty('volume',1)\n",
    "\n",
    "for sen in text:\n",
    "    if sen in sen_list:\n",
    "        print(sen)\n",
    "        continue\n",
    "    engine.setProperty('rate',text_dir[sen])\n",
    "    engine.save_to_file(sen, os.path.join(dir,sen+\".mp3\"))\n",
    "    engine.runAndWait()"
   ]
  },
  {
   "cell_type": "code",
   "execution_count": 31,
   "metadata": {},
   "outputs": [
    {
     "name": "stdout",
     "output_type": "stream",
     "text": [
      "ffmpeg -y -i test\\科技并带着趣味.mp3 -b:a 8k -ar 8000 test\\科技并带着趣味1.ogg\n",
      "ffmpeg -y -i test\\#.mp3 -b:a 8k -ar 8000 test\\#1.ogg\n",
      "ffmpeg -y -i test\\不觉得这很酷吗.mp3 -b:a 8k -ar 8000 test\\不觉得这很酷吗1.ogg\n",
      "ffmpeg -y -i test\\#.mp3 -b:a 8k -ar 8000 test\\#1.ogg\n",
      "ffmpeg -y -i test\\作为一名理工男.mp3 -b:a 8k -ar 8000 test\\作为一名理工男1.ogg\n",
      "ffmpeg -y -i test\\#.mp3 -b:a 8k -ar 8000 test\\#1.ogg\n",
      "ffmpeg -y -i test\\我觉得这太酷了.mp3 -b:a 8k -ar 8000 test\\我觉得这太酷了1.ogg\n",
      "ffmpeg -y -i test\\#.mp3 -b:a 8k -ar 8000 test\\#1.ogg\n",
      "ffmpeg -y -i test\\很符合我对未来生活的想象.mp3 -b:a 8k -ar 8000 test\\很符合我对未来生活的想象1.ogg\n"
     ]
    }
   ],
   "source": [
    "#压缩\n",
    "res=[]\n",
    "temp=text[:]\n",
    "i=0\n",
    "for sen in temp:\n",
    "    if sen==\"#\":\n",
    "        ori=os.path.join(dir,\"blank\"+str(i)+\".mp3\")\n",
    "        obj=os.path.join(dir,\"blank\"+str(i)+\"_\"+ext)\n",
    "        res.append(obj)\n",
    "        print(\"ffmpeg -y -i \"+ori+\" -b:a 4k -ar 4000 \"+obj)\n",
    "        os.system(\"ffmpeg -y -i \"+ori+\" -b:a 8k -ar 8000 \"+obj)\n",
    "\n",
    "        i=i+1\n",
    "        continue\n",
    "    ori=os.path.join(dir,sen+\".mp3\")\n",
    "    obj=os.path.join(dir,sen+\"1\"+ext)\n",
    "    res.append(obj)\n",
    "    print(\"ffmpeg -y -i \"+ori+\" -b:a 8k -ar 8000 \"+obj)\n",
    "    os.system(\"ffmpeg -y -i \"+ori+\" -b:a 8k -ar 8000 \"+obj)\n",
    "        "
   ]
  },
  {
   "cell_type": "code",
   "execution_count": 32,
   "metadata": {},
   "outputs": [
    {
     "name": "stdout",
     "output_type": "stream",
     "text": [
      "ffmpeg -y -i \"concat:test\\科技并带着趣味1.ogg|test\\#1.ogg|test\\不觉得这很酷吗1.ogg|test\\#1.ogg|test\\作为一名理工男1.ogg|test\\#1.ogg|test\\我觉得这太酷了1.ogg|test\\#1.ogg|test\\很符合我对未来生活的想象1.ogg\" -acodec copy res1.ogg\n"
     ]
    },
    {
     "data": {
      "text/plain": [
       "<os._wrap_close at 0x17b8da855d0>"
      ]
     },
     "execution_count": 32,
     "metadata": {},
     "output_type": "execute_result"
    }
   ],
   "source": [
    "l1 = res[:]\n",
    "\n",
    "cmd = ('ffmpeg -y -i \"concat:%s\" -acodec copy %s' % ('|'.join(l1), 'res1'+ext))\n",
    "print(cmd)\n",
    "os.popen(cmd)"
   ]
  },
  {
   "cell_type": "code",
   "execution_count": null,
   "metadata": {},
   "outputs": [],
   "source": []
  }
 ],
 "metadata": {
  "kernelspec": {
   "display_name": "Python 3.10.7 64-bit",
   "language": "python",
   "name": "python3"
  },
  "language_info": {
   "codemirror_mode": {
    "name": "ipython",
    "version": 3
   },
   "file_extension": ".py",
   "mimetype": "text/x-python",
   "name": "python",
   "nbconvert_exporter": "python",
   "pygments_lexer": "ipython3",
   "version": "3.10.7"
  },
  "orig_nbformat": 4,
  "vscode": {
   "interpreter": {
    "hash": "dc3f1394fa3b5a2a76fb42d787780380ac2d0683c378aa72240c6a1c5e40ffd4"
   }
  }
 },
 "nbformat": 4,
 "nbformat_minor": 2
}
