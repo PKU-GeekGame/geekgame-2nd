{
 "cells": [
  {
   "cell_type": "code",
   "execution_count": 4,
   "metadata": {},
   "outputs": [
    {
     "data": {
      "text/plain": [
       "'ZmxhZ3tzMW1wMWUtanZhdl9yZXZ9'"
      ]
     },
     "execution_count": 4,
     "metadata": {},
     "output_type": "execute_result"
    }
   ],
   "source": [
    "text=b\"MzkuM8gmZJ6jZJHgnaMuqy4lMKM4\"\n",
    "res=\"\"\n",
    "for i in text:\n",
    "    if i-13 >=ord('a') and i-13<=ord('m'):\n",
    "        res=res+chr(i-13)\n",
    "    elif i-13 >=ord('A') and i-13<=ord('M'):\n",
    "        res=res+chr(i-13)\n",
    "    elif i+13 >=ord('n') and i+13<=ord('z'):\n",
    "        res=res+chr(i+13)\n",
    "    elif i+13 >=ord('N') and i+13<=ord('Z'):\n",
    "        res=res+chr(i+13)\n",
    "    elif i+5 >=ord('5') and i+5<=ord('9'):\n",
    "        res=res+chr(i+5)\n",
    "    elif i-5 >=ord('0') and i-5<=ord('4'):\n",
    "        res=res+chr(i-5)\n",
    "\n",
    "res"
   ]
  },
  {
   "cell_type": "code",
   "execution_count": 1,
   "metadata": {},
   "outputs": [
    {
     "data": {
      "text/plain": [
       "b'flag{javascript-obfuscator}'"
      ]
     },
     "execution_count": 1,
     "metadata": {},
     "output_type": "execute_result"
    }
   ],
   "source": [
    "bytes([102,108,97,103,123,106,97,118,97,115,99,114,105,112,116,45,111,98,102,117,115,99,97,116,111,114,125])"
   ]
  }
 ],
 "metadata": {
  "kernelspec": {
   "display_name": "Python 3.10.7 64-bit",
   "language": "python",
   "name": "python3"
  },
  "language_info": {
   "codemirror_mode": {
    "name": "ipython",
    "version": 3
   },
   "file_extension": ".py",
   "mimetype": "text/x-python",
   "name": "python",
   "nbconvert_exporter": "python",
   "pygments_lexer": "ipython3",
   "version": "3.10.7"
  },
  "orig_nbformat": 4,
  "vscode": {
   "interpreter": {
    "hash": "dc3f1394fa3b5a2a76fb42d787780380ac2d0683c378aa72240c6a1c5e40ffd4"
   }
  }
 },
 "nbformat": 4,
 "nbformat_minor": 2
}
