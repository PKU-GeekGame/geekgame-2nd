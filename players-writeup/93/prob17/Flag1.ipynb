{
 "cells": [
  {
   "cell_type": "code",
   "execution_count": 12,
   "metadata": {},
   "outputs": [],
   "source": [
    "import sys, random\n",
    "import numpy as np"
   ]
  },
  {
   "cell_type": "code",
   "execution_count": 13,
   "metadata": {},
   "outputs": [
    {
     "name": "stdout",
     "output_type": "stream",
     "text": [
      "[('t', 0), ('a', 0), ('a', 0), ('a', 0), ('a', 0), ('y', 1), ('y', 1), ('b', 2), ('b', 2), ('b', 2), ('b', 2), ('n', 3), ('n', 3), ('n', 3), ('n', 3), ('t', 4), ('t', 4), ('t', 4), ('g', 5), ('g', 5), ('g', 5), ('g', 5), ('g', 5), ('g', 5), ('i', 7), ('i', 7), ('i', 7), ('w', 8), ('x', 9), ('x', 9), ('o', 10), ('z', 11), ('z', 11), ('s', 12), ('s', 12), ('s', 12), ('s', 12), ('s', 12), ('s', 12), ('e', 13), ('f', 14), ('f', 14), ('f', 14), ('l', 16), ('p', 17), ('c', 18), ('k', 19), ('q', 20), ('q', 20), ('q', 20), ('h', 21), ('h', 21), ('h', 21), ('h', 21), ('h', 21)]\n"
     ]
    }
   ],
   "source": [
    "letters='ABCDEFGHIJKLMNOPQRSTUVWXYZ'\n",
    "filename='src/crypt1.txt'\n",
    "\n",
    "with open(filename) as f:\n",
    "    plain_text=f.read()\n",
    "\n",
    "counter=1\n",
    "a_list=[]\n",
    "a_class=\"\"\n",
    "for i in range(1,len(plain_text)-1):\n",
    "    l=plain_text[i]\n",
    "    if l not in letters and l not in letters.lower():\n",
    "        continue\n",
    "    else:\n",
    "        p1=plain_text[i-1]\n",
    "        p2=plain_text[i+1]\n",
    "        if p1 ==\" \" and p2 ==\" \":\n",
    "            a_list.append((l.lower(),np.mod(counter,22)))\n",
    "            if l.lower() not in a_class:\n",
    "                a_class=a_class+l.lower()\n",
    "\n",
    "        counter=counter+1\n",
    "\n",
    "        \n",
    "a_list.sort(key=lambda x:x[1])\n",
    "print(a_list)\n"
   ]
  },
  {
   "cell_type": "code",
   "execution_count": 14,
   "metadata": {},
   "outputs": [
    {
     "name": "stdout",
     "output_type": "stream",
     "text": [
      "不和 a 一组的字母 d\n",
      "不和 a 一组的字母 j\n",
      "不和 a 一组的字母 u\n",
      "不和 a 一组的字母 v\n",
      "和 a 一组的字母 festnpgwkazqhbcioylxrm\n",
      "字母个数 22\n"
     ]
    }
   ],
   "source": [
    "a_class=a_class+\"r\"+\"m\"\n",
    "\n",
    "for i in letters:\n",
    "    if i.lower() not in a_class:\n",
    "        print(\"不和 a 一组的字母\",i.lower())\n",
    "print(\"和 a 一组的字母\",a_class)\n",
    "print(\"字母个数\",len(a_class))"
   ]
  },
  {
   "cell_type": "code",
   "execution_count": 15,
   "metadata": {},
   "outputs": [],
   "source": [
    "a_class=\"aybntgriwxozsefmlpckqh\".upper()\n",
    "a_rest=\"djuv\".upper()\n",
    "\n",
    "keymap={}\n",
    "for i in range(len(a_class)):\n",
    "    keymap[a_class[i]]=a_class[np.mod(i-1,len(a_class))]\n",
    "\n",
    "for i in a_rest:\n",
    "    keymap[i]=i"
   ]
  },
  {
   "cell_type": "code",
   "execution_count": 16,
   "metadata": {},
   "outputs": [],
   "source": [
    "keymap[\"J\"]=\"U\"\n",
    "keymap[\"U\"]=\"J\""
   ]
  },
  {
   "cell_type": "code",
   "execution_count": 17,
   "metadata": {},
   "outputs": [
    {
     "name": "stdout",
     "output_type": "stream",
     "text": [
      "Cryptography is a technique used to enable secure communication between different parties, it transforms data into another form so that only those who know how to transform the data back to the original can read it. Plaintext refers to the original, unaltered message. Ciphertext is what is created after the transformation is complete - this is called encryption. The reverse process, taking ciphertext and turning it into the original plaintext is called decryption. The different methods by which we perform these transformations are called ciphers, meanwhile cryptanalysis is the process of trying to break and find flaws in these ciphers.\n",
      "Classical ciphers fall into one of two categories: substitution ciphers or transposition ciphers. Substitution ciphers replace each letter in the plaintext with another in the ciphertext, meanwhile transposition ciphers keep the original letters, but rearrange the order of these in the ciphertext.\n",
      "Frequency analysis is a type of cryptanalysis, it analyses the distribution of different letters in a piece of text. In every language, some letters occur more frequently than others. In the English language the letters E, T and A occur with the highest frequency. In addition to using the frequency distribution of single letters, we can also analyse the occurrences of sequences of letters in the same way. Pairs of letters are called bigrams, meanwhile trigrams are sequences of three letters. Another useful method is to identify single letter words or words with repeated letters in them. In English, \"A\" and \"I\" are the most common single letter words, meanwhile \"ss\", \"ee\" and \"tt\" are the most common sets of double letters. We can use all these methods to try and determine the key. However, if we cannot determine the key using other methods, we can simply try to decipher the ciphertext with every possible key. This method is know as brute force. This is easy for ciphers with a small number of keys, especially using a computer, but will not work where there are a huge number of keys - as will become apparent later. An improvement to substitution ciphers are poly alphabetic substitution ciphers - these are a form of substitution ciphers that use multiple alphabets. The Vigen猫re cipher is an extension of the Caesar Cipher, but it uses multiple different Caesar Ciphers with different keys. First, a keyword is used, and this determines which letters are encrypted with each key.\n",
      "Vigenere squares can help us with these transformations. A section of one is pictured above. The top row indicates the letter of the keyword, and the left-hand column indicates the plaintext letter we want to encrypt. The ciphertext letter is the letter at the intersection. Frequency analysis is not effective against the Vigenere cipher. Multiple alphabets are used, so the mapping of plaintext letters to ciphertext letters is not constant. However, if we know the length of the key, we can determine which letters were enciphered with which alphabet. We can then use frequency analysis against each group enciphered with the same alphabet. But how do we work out the length of the key? Friedrich Kasiski in 1863 came up with the Kasiski Examination, a method used to determine the key length. If in a piece of ciphertext there is a repeated series of letters, then they will likely have been enciphered with the same key and correspond to the same plaintext, so the key is a multiple of the distance between the start of each group. By knowing the key, we can then use frequency analysis to determine the keys. \n",
      "The Rail Fence or Zigzag Cipher is a transposition cipher. We must first choose a numeric key, which we use to encipher our plaintext message. Once we have a key, say 3, we write each letter of the plaintext diagonally downwards as many rows as the key, and then continue upwards until the top row and then go down again - like a zigzag! The ciphertext is then assembled by collecting all letters on each line together and then placing each line after each other. The flag is foxtrot lima alpha golf left bracket foxtrot romeo echo nine uniform echo november charlie yankee underscore four november alpha lima yankee five india sierra underscore one sierra underscore uniform sierra echo foxtrot uniform lima right bracket.\n",
      "All classical ciphers we have seen so far have all been performed, and cracked, by hand. Cryptographic development at the start of the 19th century focussed on creating mechanical machines to avoid enciphering by hand - many of these are various forms of rotor machines. These rotor machines used multiple rotors that turn with every letter entered, enciphering each letter with a different alphabet. Fundamentally these are just mechanical machines performing poly alphabetic substitution ciphers. One of the most well-known mechanical cipher machines is the Enigma machine - created and used by Nazi Germany from the 1930s and used throughout the second world war. The Enigma machine was famously broken by Britain's Government Code and Cypher School at Bletchley Park by mathematicians including Alan Turing, Joan Clarke, Gordan Welchman and thousands, and thousands of others. Their wartime achievements and sacrifices went unacknowledged for years until The Ultra Secret in 1974 by Frederick Winterbotham; however, many decided to never reveal their work. It is estimated that breaking the Enigma machine - and being able to read messages passed through the Enigma network - led to the shortening of the war by a number of years and saved at least 14 million lives worldwide. However, the work done at Bletchley Park - now a museum - would not have been possible without early work done by Polish mathematicians Marian Rejewski, Henryk Zygalski and Jerzy Rozycki. \n",
      "The Enigma machine appears just like a typewriter, it has three rotors under the keyboard with a lampboard above this and a plugboard at the front. To encipher a message, the three rotors were first set to a predetermined setting for that day; these were documented in a code book for each month - if you had the code book, you could decipher every message for that month. The plugboard also required setting up, this consisted of several leads representing letters, of which some of these were connected to each other. Once the rotors were in their correct starting position and the plugboard was set, the plaintext would be entered letter by letter. The machine would encipher the letter and light up the corresponding letter on the lampboard to indicate the ciphertext of the letter entered. One of the rotors turned with each key press, and at a predetermined point this would turn the next rotor and when that rotor had completed a full turn, the next rotor would turn. This process ensured that each letter was enciphered using a different alphabet. The result of this technique is a staggering 159 quintillion possible settings and thus alphabets - 15.9 billion billion, much too large to brute force! Many techniques were developed to break into the Enigma, which throughout the war Germany deemed would simply be impossible. Code books containing Enigma settings were stolen, even an Enigma machine sent to the German Embassy in Poland was intercepted and copied, but there were also shortfalls in its operation. Some messages, such as weather reports, had set formats and the content of these messages could often be guessed - known as a 'known plaintext attack'! The guessed plaintext is called a crib. Machines called Bombes were designed and used at Bletchley Park to break Enigma in the later years of the war, these were huge electro-mechanical machines designed to aid cryptanalysts in determining the settings used for the Enigma. Enigma was not the only cipher worked on at Bletchley Park, the German Lorenz and various Japanese ciphers were also worked on by staff at Bletchley Park. Colossus was a computer developed by Tommy Flowers at Bletchley Park to defeat the German Lorenz cipher; this work pioneered the development of modern computers. Bletchley Park is now a museum and is open to the public and features many of the original huts that different teams worked in, alongside the original Victorian Gothic mansion. The site is also home to the National Museum of Computing, where a Colossus machine has been rebuilt.\n",
      "Modern cryptography is a world away from its beginnings; where it now focuses on mathematics rather than language. The advent of modern cryptography was arguably in the 1970's with the Data Encryption Standard. Modern cryptography falls into one of two categories: symmetric cryptography and asymmetric cryptography. Symmetric cryptography uses the same key for encryption and decryption, meanwhile asymmetric uses one key for encryption and a completely different key for decryption. All ciphers mentioned up to this point have all been symmetric, they all use the same, or a derived key, for both encryption and decryption. As symmetric encryption uses the same key for both encryption and decryption, this acts as a shared secret. DES was the first mainstream symmetric encryption algorithm in the 1970s. There are two types of symmetric encryption, stream ciphers and block ciphers. Stream ciphers encipher each unit of data at a time - much like classical ciphers did, taking each letter and transforming it to its ciphertext equivalent. Block ciphers, on the other hand, split the plaintext into blocks of constant sizes and encrypt each block as a unit. Commonly used symmetric ciphers are ChaCha20, Blowfish, RC4 and IDEA. Asymmetric cryptography, or public-key cryptography, uses two different keys, one for encryption (the public key) and another, separate key for decryption - the private key. The public key is meant to be open and known by anybody, hence public, while the private key should be kept secret and know only by the owner - hence private. The Diffie-Hellman key exchange (sometimes Diffie-Hellman-Merkle) was one of the first uses of public-key cryptography. It enables two parties to determine a shared secret without having to transmit this shared secret. Symmetric key cryptography requires the two parties to somehow exchange the key used for encryption and decryption at the other end, this was usually done by transferring the key using another channel; perhaps they met in person or used a courier. The Diffie-Hellman key exchange works as shown in the image below. Alice and Bob start with the same colour paint; each mix their paint with another 'new colour', where each new colour is only known to them. They then send each other their newly mixed paint, and add their 'new colour' the received mix. Alice and Bob will now both have the same colour paint. If someone were to intercept the paint during the exchanged, they would not know the final colour without knowledge of each secret colour. Separating the paint to determine the initial colour is infeasible. Diffie- Hellman works in the same way but uses prime numbers instead of paint!\n",
      "Symmetric, Asymmetric and Public-key cryptography systems are used everyday by almost everyone: every time you use the internet. HTTPS is a protocol used on the internet to access websites securely, it uses TLS to secure your connection to websites. It encrypts all data sent over the internet to websites and ensures that the website is who they claim to be and not an attacker pretending to be the website to steal your information. These two properties are called confidentiality and authentication. Your browser needs to generate an encryption key to be used with a symmetric cipher that is used to secure the data sent between the browser and each website you use. It does this by using either Diffie-Hellman or a slightly different method called RSA. RSA, created by Ronald Rivest, Adi Shamir, and Leonard Adleman in the 1970s hence RSA - the first letter of each surname, performs a similar function to the Diffie-Hellman method, but works slightly differently. Once it has established a symmetric key to use, it can encrypt all data sent between your browser and the website. The website provides authentication - proving it is the real website and not an attacker - by using a digital certificate. This certificate verifies that the website has proven itself to an external organisation - called a Certificate Authority - that they are indeed the website they claim to be. This certificate is generated using public key cryptography, the website presents its certificate to your browser and your browser then checks that the certificate is genuine and was issued to the website by the certificate authority. This process is known as signing - the certificate authority signs the certificate it gives to the website and this signature is what your browser checks.\n",
      "Quantum cryptography and quantum key distribution are both areas of research in quantum computing. In a quantum system, if a third party intercepts data sent between two parties, then the data that they view would alter what the receiver receives and the receiver would be able to determine that the data was intercepted. The quantum key distribution problem aims to securely exchange keys without these keys being able to be intercepted by anyone, the exchanged keys can then be used for symmetric ciphers. Cryptography has a long history and has developed from linguistics and language to mathematics and physics; being an almost unrecognisable field from 100 years ago. Ciphers have developed from the simple Caesar Cipher through to the Enigma machine and public key cryptography which is essential to everyday life. Quantum cryptography aims to improve the security of exchange keys to make our data more secure.\n",
      "\n"
     ]
    }
   ],
   "source": [
    "letters='ABCDEFGHIJKLMNOPQRSTUVWXYZ'\n",
    "\n",
    "current_key={letters[i]:letters[i] for i in range(26)}\n",
    "\n",
    "cipher_text=\"\"\n",
    "for i in plain_text:\n",
    "    if i not in letters and i not in letters.lower():\n",
    "        cipher_text=cipher_text+i\n",
    "    else:\n",
    "        if i in letters:\n",
    "            cipher_text=cipher_text+current_key[i]\n",
    "        else:\n",
    "            cipher_text=cipher_text+current_key[i.upper()].lower()\n",
    "        current_key={i:keymap[current_key[i]] for i in current_key}\n",
    "\n",
    "print(cipher_text)\n"
   ]
  }
 ],
 "metadata": {
  "kernelspec": {
   "display_name": "Python 3.10.7 64-bit",
   "language": "python",
   "name": "python3"
  },
  "language_info": {
   "codemirror_mode": {
    "name": "ipython",
    "version": 3
   },
   "file_extension": ".py",
   "mimetype": "text/x-python",
   "name": "python",
   "nbconvert_exporter": "python",
   "pygments_lexer": "ipython3",
   "version": "3.10.7"
  },
  "orig_nbformat": 4,
  "vscode": {
   "interpreter": {
    "hash": "dc3f1394fa3b5a2a76fb42d787780380ac2d0683c378aa72240c6a1c5e40ffd4"
   }
  }
 },
 "nbformat": 4,
 "nbformat_minor": 2
}
