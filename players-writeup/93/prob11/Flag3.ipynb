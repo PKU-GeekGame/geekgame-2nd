{
 "cells": [
  {
   "cell_type": "code",
   "execution_count": 1,
   "metadata": {},
   "outputs": [],
   "source": [
    "#flag2"
   ]
  },
  {
   "cell_type": "code",
   "execution_count": 2,
   "metadata": {},
   "outputs": [
    {
     "data": {
      "text/plain": [
       "b'flag{what_a_1enstra-1enstra-1ovasz}'"
      ]
     },
     "execution_count": 2,
     "metadata": {},
     "output_type": "execute_result"
    }
   ],
   "source": [
    "#flag3\n",
    "f=[102,108,97,103,123,119,104,97,116,95,97,95,49,101,110,115,116,114,97,45,49,101,110,115,116,114,97,45,49,111,118,97,115,122,125]\n",
    "bytes(f)"
   ]
  }
 ],
 "metadata": {
  "kernelspec": {
   "display_name": "Python 3.10.7 64-bit",
   "language": "python",
   "name": "python3"
  },
  "language_info": {
   "codemirror_mode": {
    "name": "ipython",
    "version": 3
   },
   "file_extension": ".py",
   "mimetype": "text/x-python",
   "name": "python",
   "nbconvert_exporter": "python",
   "pygments_lexer": "ipython3",
   "version": "3.10.7"
  },
  "orig_nbformat": 4,
  "vscode": {
   "interpreter": {
    "hash": "dc3f1394fa3b5a2a76fb42d787780380ac2d0683c378aa72240c6a1c5e40ffd4"
   }
  }
 },
 "nbformat": 4,
 "nbformat_minor": 2
}
