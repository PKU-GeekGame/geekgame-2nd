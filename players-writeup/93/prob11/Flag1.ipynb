{
 "cells": [
  {
   "cell_type": "code",
   "execution_count": 1,
   "metadata": {},
   "outputs": [],
   "source": [
    "from src.prob import *\n",
    "import os\n",
    "from decimal import *\n",
    "import numpy as np"
   ]
  },
  {
   "cell_type": "code",
   "execution_count": 3,
   "metadata": {},
   "outputs": [
    {
     "data": {
      "text/plain": [
       "26"
      ]
     },
     "execution_count": 3,
     "metadata": {},
     "output_type": "execute_result"
    }
   ],
   "source": [
    "ans1=['16404', '16416', '16512', '16515', '16557', '16791', '16844', '16394', '15927', '15942', '15896', '15433', '15469', '15553', '15547', '15507', '15615', '15548', '15557', '15677', '15802', '15770', '15914', '15957', '16049', '16163']\n",
    "lenf=len(ans1)\n",
    "lenf"
   ]
  },
  {
   "cell_type": "code",
   "execution_count": 4,
   "metadata": {},
   "outputs": [],
   "source": [
    "ma=np.zeros((lenf,lenf))\n",
    "p=primes[:lenf]\n",
    "for i in range(lenf):\n",
    "    for j in range(lenf):\n",
    "        ma[i,j]=np.sqrt(p[j])\n",
    "\n",
    "    p=[p[-1]]+p[:-1]\n",
    "\n",
    "vec=np.zeros((lenf,1))\n",
    "for i in range(lenf):\n",
    "    vec[i]=int(ans1[i])"
   ]
  },
  {
   "cell_type": "code",
   "execution_count": 5,
   "metadata": {},
   "outputs": [
    {
     "data": {
      "text/plain": [
       "b'flag{g00d_1inear_equation}'"
      ]
     },
     "execution_count": 5,
     "metadata": {},
     "output_type": "execute_result"
    }
   ],
   "source": [
    "rec=np.linalg.pinv(ma).dot(vec)\n",
    "rec=np.round(rec).tolist()\n",
    "rec=[int(x[0]) for x in rec]\n",
    "bytes(rec)"
   ]
  }
 ],
 "metadata": {
  "kernelspec": {
   "display_name": "Python 3.10.7 64-bit",
   "language": "python",
   "name": "python3"
  },
  "language_info": {
   "codemirror_mode": {
    "name": "ipython",
    "version": 3
   },
   "file_extension": ".py",
   "mimetype": "text/x-python",
   "name": "python",
   "nbconvert_exporter": "python",
   "pygments_lexer": "ipython3",
   "version": "3.10.7"
  },
  "orig_nbformat": 4,
  "vscode": {
   "interpreter": {
    "hash": "dc3f1394fa3b5a2a76fb42d787780380ac2d0683c378aa72240c6a1c5e40ffd4"
   }
  }
 },
 "nbformat": 4,
 "nbformat_minor": 2
}
