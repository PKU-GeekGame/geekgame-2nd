{
 "cells": [
  {
   "cell_type": "code",
   "execution_count": 6,
   "metadata": {},
   "outputs": [
    {
     "data": {
      "text/plain": [
       "[('66', 102, 'f'),\n",
       " ('6c', 108, 'l'),\n",
       " ('61', 97, 'a'),\n",
       " ('67', 103, 'g'),\n",
       " ('78', 120, 'x'),\n",
       " ('28', 40, '('),\n",
       " ('25', 37, '%'),\n",
       " ('33', 51, '3'),\n",
       " ('ef', 239, 'ï'),\n",
       " ('22', 34, '\"'),\n",
       " ('92', 146, '\\x92'),\n",
       " ('cb', 203, 'Ë'),\n",
       " ('65', 101, 'e'),\n",
       " ('ab', 171, '«'),\n",
       " ('46', 70, 'F'),\n",
       " ('e2', 226, 'â'),\n",
       " ('59', 89, 'Y'),\n",
       " ('c5', 197, 'Å'),\n",
       " ('36', 54, '6'),\n",
       " ('4b', 75, 'K'),\n",
       " ('6b', 107, 'k'),\n",
       " ('e7', 231, 'ç'),\n",
       " ('f4', 244, 'ô'),\n",
       " ('b2', 178, '²')]"
      ]
     },
     "execution_count": 6,
     "metadata": {},
     "output_type": "execute_result"
    }
   ],
   "source": [
    "orn=hex(2511413510823276375832653761986868459306472933080227640498)\n",
    "flag=[]\n",
    "for i in range(2,len(orn),2):\n",
    "    oxnu=orn[i:i+2]\n",
    "    nu=int('0x'+oxnu,16)\n",
    "    flag.append((oxnu,nu,chr(nu)))\n",
    "\n",
    "flag"
   ]
  },
  {
   "cell_type": "code",
   "execution_count": 3,
   "metadata": {},
   "outputs": [],
   "source": [
    "from typing import List\n",
    "\n",
    "def find_polydivisible(base: int) -> List[int]:\n",
    "    \"\"\"Find polydivisible number.\"\"\"\n",
    "    numbers = []\n",
    "    previous = [i for i in range(1, base)]\n",
    "    new = []\n",
    "    digits = 2\n",
    "    while not previous == []:\n",
    "        numbers.append(previous)\n",
    "        for n in previous:\n",
    "            for j in range(0, base):\n",
    "                number = n * base + j\n",
    "                if number % digits == 0:\n",
    "                    new.append(number)\n",
    "        previous = new\n",
    "        new = []\n",
    "        digits = digits + 1\n",
    "    return numbers"
   ]
  },
  {
   "cell_type": "code",
   "execution_count": 4,
   "metadata": {},
   "outputs": [],
   "source": [
    "res=find_polydivisible(16)"
   ]
  },
  {
   "cell_type": "code",
   "execution_count": 5,
   "metadata": {},
   "outputs": [
    {
     "name": "stdout",
     "output_type": "stream",
     "text": [
      "flag{founD_MaGIc_number}\n"
     ]
    }
   ],
   "source": [
    "sign=1\n",
    "for i in range(1,len(res)+1):\n",
    "    for num in res[-i]:\n",
    "        flag=num^2511413510823276375832653761986868459306472933080227640498\n",
    "        flag=flag.to_bytes(24,'big')\n",
    "        if len(set(flag)-set(range(127)))<=0:\n",
    "            print(flag.decode())\n",
    "            sign=0\n",
    "            break\n",
    "    \n",
    "    if sign==0:\n",
    "        break\n",
    "        "
   ]
  }
 ],
 "metadata": {
  "kernelspec": {
   "display_name": "Python 3.10.7 64-bit",
   "language": "python",
   "name": "python3"
  },
  "language_info": {
   "codemirror_mode": {
    "name": "ipython",
    "version": 3
   },
   "file_extension": ".py",
   "mimetype": "text/x-python",
   "name": "python",
   "nbconvert_exporter": "python",
   "pygments_lexer": "ipython3",
   "version": "3.10.7"
  },
  "orig_nbformat": 4,
  "vscode": {
   "interpreter": {
    "hash": "dc3f1394fa3b5a2a76fb42d787780380ac2d0683c378aa72240c6a1c5e40ffd4"
   }
  }
 },
 "nbformat": 4,
 "nbformat_minor": 2
}
